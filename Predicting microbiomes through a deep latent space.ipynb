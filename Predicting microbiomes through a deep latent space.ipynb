{
 "cells": [
  {
   "cell_type": "markdown",
   "id": "1ae86c53",
   "metadata": {},
   "source": [
    "### 논문\n",
    "https://academic.oup.com/bioinformatics/article/37/10/1444/5988714"
   ]
  },
  {
   "cell_type": "markdown",
   "id": "35eeb03e",
   "metadata": {},
   "source": [
    "### 데이터 셋 및 코드 출처\n",
    "https://www.kaggle.com/code/msandrk/autoencoders-for-microbiome-prediction/notebook"
   ]
  },
  {
   "cell_type": "code",
   "execution_count": 1,
   "id": "1844d8f2",
   "metadata": {},
   "outputs": [],
   "source": [
    "import tensorflow.keras as keras\n",
    "import matplotlib.pyplot as plt\n",
    "from numpy import ndarray\n",
    "from sklearn.model_selection import KFold\n",
    "from pandas import DataFrame\n",
    "from typing import Callable, List, Optional, Tuple, Union\n",
    "\n",
    "_REGULARIZERS = { 'l1': keras.regularizers.L1, 'l2': keras.regularizers.L2 }\n",
    "def build_otu_ae_model(input_units: int=717,\n",
    "                    hidden_layers: Optional[Tuple[Tuple, str]]=((512, 256, 128), 'relu'),\n",
    "                    hidden_reg_method: Optional[str]=None,\n",
    "                    hidden_reg_rate: Optional[float]=0.0,\n",
    "                    use_dropout: bool=False,\n",
    "                    dropout_rate: float=0.2,\n",
    "                    latent_layer: Tuple[int, str]=(64, 'relu'),\n",
    "                    latent_reg_method: Optional[str]='l1',\n",
    "                    latent_reg_rate: Optional[float]=0.01,\n",
    "                    decoder_out_activation: Optional[str]=None) -> Tuple[keras.Model, keras.Model]:\n",
    "\n",
    "    # ENCODER\n",
    "    encoder_input = keras.Input(input_units, name='encoder_input')\n",
    "    layer = encoder_input\n",
    "\n",
    "    if hidden_layers is not None:\n",
    "        hidden_layers_sizes = hidden_layers[0]\n",
    "        hidden_activation = hidden_layers[1]\n",
    "\n",
    "        reg_hidden = None\n",
    "        if hidden_reg_method:\n",
    "            reg_hidden = _REGULARIZERS.get(hidden_reg_method, keras.regularizers.L1)\n",
    "            reg_hidden = reg_hidden(hidden_reg_rate)\n",
    "\n",
    "        for size in hidden_layers_sizes:\n",
    "            layer = keras.layers.Dense(size, activation=hidden_activation, activity_regularizer=reg_hidden, name=f\"encoder_hidden_{size}\")(layer)\n",
    "            if use_dropout:\n",
    "                layer = keras.layers.Dropout(dropout_rate)(layer)\n",
    "    \n",
    "    latent_size = latent_layer[0]\n",
    "    latent_activation = latent_layer[1]\n",
    "    reg_latent = None\n",
    "    if latent_reg_method:\n",
    "        reg_latent = _REGULARIZERS.get(latent_reg_method.lower(), keras.regularizers.L1)\n",
    "        reg_latent = reg_latent(latent_reg_rate)\n",
    "    \n",
    "    encoder_output = keras.layers.Dense(latent_size, activation=latent_activation, activity_regularizer=reg_latent, name=f'latent_{latent_size}')(layer)\n",
    "\n",
    "    encoder_model = keras.Model(inputs=encoder_input, outputs=encoder_output, name='otu_encoder')\n",
    "\n",
    "    # DECODER\n",
    "    decoder_input = keras.Input(latent_size, name='decoder_input')\n",
    "    layer = decoder_input\n",
    "    if hidden_layers is not None:\n",
    "        for i, size in enumerate(reversed(hidden_layers_sizes)):\n",
    "            layer = keras.layers.Dense(size, activation=hidden_activation, activity_regularizer=reg_hidden,\n",
    "                                       name=f'decoder_hidden_{size}')(layer)\n",
    "            if use_dropout:\n",
    "                layer = keras.layers.Dropout(dropout_rate)(layer)\n",
    "\n",
    "    decoder_output = keras.layers.Dense(input_units, activation=decoder_out_activation, name='decoded_output')(layer)\n",
    "\n",
    "    decoder_model = keras.Model(decoder_input, decoder_output, name='decoder')\n",
    "    \n",
    "    # AUTOENCODER\n",
    "    autoencoder_input = keras.Input(input_units, name='otu_counts')\n",
    "    encoded_counts = encoder_model(autoencoder_input)\n",
    "    decoded_counts = decoder_model(encoded_counts)\n",
    "    autoencoder = keras.Model(autoencoder_input, decoded_counts, name='autoencoder')\n",
    "\n",
    "    # autoencoder.summary()\n",
    "\n",
    "    return autoencoder, encoder_model, decoder_model\n",
    "\n",
    "def build_env_model(input_units: int=36,\n",
    "                    hidden_layers: Optional[Tuple[Tuple, str]]=((64, 128), 'relu'),\n",
    "                    output_layer: Tuple[int, str]=(64, 'relu'),\n",
    "                    use_batch_norm: bool=False) -> keras.Model:\n",
    "    \n",
    "    input_layer = keras.Input(input_units, name='input_layer')\n",
    "    layer = input_layer\n",
    "\n",
    "    if use_batch_norm:\n",
    "        layer = keras.layers.BatchNormalization()(input_layer)\n",
    "\n",
    "    if hidden_layers:\n",
    "        hidden_sizes = hidden_layers[0]\n",
    "        hidden_activation = hidden_layers[1]\n",
    "\n",
    "        for size in hidden_sizes:\n",
    "            layer = keras.layers.Dense(size, activation=hidden_activation, name=f'env_net_hidden_{size}')(layer)\n",
    "    \n",
    "    output_layer = keras.layers.Dense(output_layer[0], activation=output_layer[1], name='env_output_')(layer)\n",
    "\n",
    "    model = keras.Model(input_layer, output_layer, name='env_to_latent')\n",
    "\n",
    "    return model\n",
    "\n",
    "\n",
    "def kfold_training(model_gen: Callable[[], keras.Model],\n",
    "                    X_data: Union[DataFrame, ndarray],\n",
    "                    Y_data: Union[DataFrame, ndarray, None],\n",
    "                    n_folds: int=5,\n",
    "                    shuffle_data: bool=True,\n",
    "                    random_state: int=21,\n",
    "                    epochs: int=200,\n",
    "                    batch_size: int=128,\n",
    "                    optimizer: keras.optimizers.Optimizer=keras.optimizers.Adam(),\n",
    "                    loss='mse',\n",
    "                    metrics='mse',\n",
    "                    callbacks: Optional[List[keras.callbacks.Callback]]=[],\n",
    "                    plt_losses: bool=True,\n",
    "                    print_model_summary: bool=True,\n",
    "                    verbose: int=0\n",
    "                    ):\n",
    "    \n",
    "    kf = KFold(n_splits=n_folds, shuffle=shuffle_data, random_state=random_state)\n",
    "    \n",
    "    models = []\n",
    "\n",
    "    Y_data = X_data if Y_data is None else Y_data\n",
    "\n",
    "    for fold, (train_idx, val_idx) in enumerate(kf.split(X_data)):\n",
    "        \n",
    "        curr_fold = dict()\n",
    "        \n",
    "\n",
    "        # BUILD MODEL AND COMPILE IT\n",
    "        keras.backend.clear_session()\n",
    "        curr_model = model_gen()\n",
    "\n",
    "        if fold == 0 and print_model_summary:\n",
    "            curr_model.summary()\n",
    "        \n",
    "        curr_model.compile(\n",
    "            optimizer=optimizer,\n",
    "            loss=loss,\n",
    "            metrics=metrics\n",
    "        )\n",
    "        \n",
    "        # SEPERATE TRAINING AND VALIDATION DATA\n",
    "        if isinstance(X_data, DataFrame):\n",
    "            X_train = X_data.iloc[train_idx]\n",
    "            X_val = X_data.iloc[val_idx]\n",
    "        else:\n",
    "            X_train = X_data[train_idx]\n",
    "            X_val = X_data[val_idx]\n",
    "        \n",
    "        if isinstance(Y_data, DataFrame):\n",
    "            Y_train = Y_data.iloc[train_idx]\n",
    "            Y_val = Y_data.iloc[val_idx]\n",
    "        else:\n",
    "            Y_train = Y_data[train_idx]\n",
    "            Y_val = Y_data[val_idx]\n",
    "        \n",
    "        print('#'*25); print('#### FOLD',fold+1)\n",
    "        history = curr_model.fit(\n",
    "            X_train,\n",
    "            Y_train,\n",
    "            epochs=epochs,\n",
    "            batch_size=batch_size,\n",
    "            callbacks=callbacks,\n",
    "            validation_data=(X_val, Y_val),\n",
    "            verbose=verbose\n",
    "        )\n",
    "\n",
    "        if verbose == 0:\n",
    "            print(f\"Number of epochs ran: {len(history.history['loss'])}\")\n",
    "            print(f\"Minimal validation loss for fold #{fold+1}: {min(history.history['val_loss'])}\")\n",
    "\n",
    "        curr_fold['model'] = history.model\n",
    "        curr_fold['history'] = history.history\n",
    "\n",
    "        models.append(curr_fold)\n",
    "        \n",
    "        # LOSS\n",
    "        if plt_losses:\n",
    "            plt.plot(history.history['loss'])\n",
    "            plt.plot(history.history['val_loss'])\n",
    "            plt.title('model loss')\n",
    "            plt.ylabel('loss')\n",
    "            plt.xlabel('epoch')\n",
    "            plt.legend(['train', 'validation'])\n",
    "            plt.show()\n",
    "    \n",
    "    return models"
   ]
  },
  {
   "cell_type": "code",
   "execution_count": 2,
   "id": "331e7e9e",
   "metadata": {},
   "outputs": [],
   "source": [
    "import warnings\n",
    "import tensorflow as tf\n",
    "import pandas as pd\n",
    "import numpy as np\n",
    "from scipy.stats import pearsonr as __pearsonr\n",
    "from sklearn.model_selection import train_test_split\n",
    "from typing import Tuple, Optional, Callable, Union\n",
    "\n",
    "\n",
    "def total_sum_scaler(data: pd.DataFrame) -> pd.DataFrame:\n",
    "    corr_data = data + 1e-6    # add a small number to prevent division by 0\n",
    "    row_sums = corr_data.sum(axis=1)\n",
    "    return corr_data.div(row_sums, axis=0)\n",
    "\n",
    "def center_log_ratio(data: pd.DataFrame) -> pd.DataFrame:\n",
    "    corr_data = data + 1e-6 # add a small number to evade calculating log(0) which is invalid\n",
    "    log_data = np.log(corr_data)    \n",
    "    g_mean = log_data.mean(axis=1)\n",
    "    \n",
    "    return log_data.sub(g_mean, axis=0)\n",
    "\n",
    "def load_train_test_data(otu_filename: str,\n",
    "                         metadata_filename: str,\n",
    "                         otu_sep: str='\\t',\n",
    "                         metadata_sep: str='\\t',\n",
    "                         metadata_features_subset: Optional[list]=None,\n",
    "                         test_size: float=0.2,\n",
    "                         random_state: int=21) -> Tuple[pd.DataFrame, pd.DataFrame, pd.DataFrame, pd.DataFrame]:\n",
    "    \n",
    "    metadata_df = pd.read_csv(metadata_filename, sep=metadata_sep, index_col=0)\n",
    "    metadata_df = metadata_df[metadata_features_subset] if metadata_features_subset is not None else metadata_df\n",
    "    \n",
    "    otu_df = pd.read_csv(otu_filename, sep=otu_sep, index_col=0, dtype=np.int32)    \n",
    "    otu_df = otu_df.T if otu_df.shape[1] == metadata_df.shape[0] else otu_df\n",
    "    \n",
    "    otu_X_train, otu_X_test = train_test_split(otu_df, test_size=test_size, random_state=random_state)\n",
    "    env_X_train = metadata_df.loc[otu_X_train.index]\n",
    "    env_X_test = metadata_df.loc[otu_X_test.index]\n",
    "\n",
    "    return otu_X_train, otu_X_test, env_X_train, env_X_test\n",
    "\n",
    "def one_hot_encode(df: pd.DataFrame, categorical_cols: list, prefixes:dict=None) -> pd.DataFrame:\n",
    "    prefixes = categorical_cols if prefixes is None else prefixes\n",
    "    return pd.get_dummies(df, columns=categorical_cols, prefix=prefixes)\n",
    "\n",
    "def preprocess_train_test(otu_train: pd.DataFrame,\n",
    "                        otu_test: pd.DataFrame,\n",
    "                        env_train: pd.DataFrame,\n",
    "                        env_test: pd.DataFrame,\n",
    "                        otu_transform: Callable[[pd.DataFrame], pd.DataFrame]=center_log_ratio\n",
    "                        ) -> Tuple[pd.DataFrame, pd.DataFrame, pd.DataFrame, pd.DataFrame]:\n",
    "    \n",
    "    otu_train = otu_transform(otu_train)\n",
    "    otu_test = otu_transform(otu_test)\n",
    "\n",
    "    \n",
    "    env_num_features = env_train.select_dtypes('number').columns\n",
    "    env_cat_features = env_train.columns.difference(env_num_features)\n",
    "\n",
    "    # normalize numerical features\n",
    "    env_train[env_num_features] = (env_train[env_num_features] - env_train[env_num_features].min()) \\\n",
    "                                / (env_train[env_num_features].max() - env_train[env_num_features].min())\n",
    "\n",
    "    env_test[env_num_features] = (env_test[env_num_features] - env_test[env_num_features].min()) \\\n",
    "                                / (env_test[env_num_features].max() - env_test[env_num_features].min())\n",
    "\n",
    "    # one-hot encode categorical features\n",
    "    full_env_data_encoded = one_hot_encode(pd.concat([env_train, env_test], axis=0), env_cat_features)\n",
    "\n",
    "    env_train = full_env_data_encoded.loc[env_train.index]\n",
    "    env_test = full_env_data_encoded.loc[env_test.index]\n",
    "\n",
    "    return otu_train, otu_test, env_train, env_test\n",
    "\n",
    "def pearson(y_true: Union[np.ndarray, pd.DataFrame, tf.Tensor],\n",
    "            y_pred: Union[np.ndarray, pd.DataFrame, tf.Tensor]):\n",
    "    \n",
    "    if isinstance(y_true, (np.ndarray, pd.DataFrame)):\n",
    "        # not used as a metric in keras.Model.fit method\n",
    "        y_true = np.array(y_true)\n",
    "        y_pred = np.array(y_pred)\n",
    "\n",
    "        with warnings.catch_warnings():\n",
    "            warnings.simplefilter('ignore') # ignore warning about constant or almost constant sample vectors\n",
    "            result = [__pearsonr(rv, pv)[0] for rv, pv in zip(y_true, y_pred)]\n",
    "            result = np.nan_to_num(result)  # replace NaNs with 0\n",
    "            return np.mean(result)\n",
    "    else:\n",
    "        # used as a metric callable during training\n",
    "        y_true_mean = tf.reduce_mean(y_true, axis=-1, keepdims=True)\n",
    "        y_pred_mean = tf.reduce_mean(y_pred, axis=-1, keepdims=True)\n",
    "        \n",
    "        y_true_diffs = y_true - y_true_mean\n",
    "        y_pred_diffs = y_pred - y_pred_mean\n",
    "\n",
    "        numer = tf.reduce_sum(y_true_diffs * y_pred_diffs, axis=-1)\n",
    "        denom = tf.sqrt(tf.reduce_sum(y_true_diffs * y_true_diffs, axis=-1))\n",
    "        denom *= tf.sqrt(tf.reduce_sum(y_pred_diffs * y_pred_diffs, axis=-1))\n",
    "\n",
    "        result = numer / denom\n",
    "        result = tf.where(tf.math.is_nan(result), tf.zeros_like(result), result)    # replace NaN with 0\n",
    "\n",
    "        return result\n",
    "\n",
    "def bray_curtis(y_true: Union[np.ndarray, pd.DataFrame, tf.Tensor],\n",
    "                y_pred: Union[np.ndarray, pd.DataFrame, tf.Tensor]):\n",
    "\n",
    "    if isinstance(y_true, (np.ndarray, pd.DataFrame)):\n",
    "        y_true = np.array(y_true)\n",
    "        y_pred = np.array(y_pred)\n",
    "\n",
    "        numer = np.abs(y_true - y_pred)\n",
    "        denom = np.abs(y_true + y_pred)\n",
    "\n",
    "        result = np.sum(numer, axis=-1) / np.sum(denom, axis=-1)\n",
    "        return np.mean(result)\n",
    "    else:\n",
    "        numer = tf.reduce_sum(tf.abs(y_true - y_pred), axis=-1)\n",
    "        denom = tf.reduce_sum(tf.abs(y_true + y_pred), axis=-1)\n",
    "\n",
    "        return numer / denom\n",
    "\n",
    "def root_relative_squared_err(y_true: Union[np.ndarray, pd.DataFrame],\n",
    "                            y_pred: Union[np.ndarray, pd.DataFrame]):\n",
    "    \n",
    "    if isinstance(y_true, pd.DataFrame):\n",
    "        y_true = y_true.to_numpy()\n",
    "    if isinstance(y_pred, pd.DataFrame):\n",
    "        y_pred = y_pred.to_numpy()\n",
    "\n",
    "    result=np.zeros(y_true.shape[0])\n",
    "\n",
    "    for i, (true_otu,pred_otu) in enumerate(zip(y_true,y_pred)):\n",
    "        mean_otu = true_otu.mean()\n",
    "        numer=((pred_otu - true_otu)**2).sum()\n",
    "        denom=((pred_otu - mean_otu)**2).sum()\n",
    "        result[i]= numer / denom\n",
    "    \n",
    "    return np.sqrt(result)\n",
    "\n",
    "def get_best_predicts(tax_filename: str, rank: str, rrses: pd.DataFrame, sep: str='\\t', num_top: Optional[int]=35):\n",
    "    taxa_table = pd.read_csv(tax_filename, sep=sep, index_col=0)[rank]\n",
    "    \n",
    "    rrses_column = rrses.columns.values[0]\n",
    "    data = pd.concat([taxa_table, rrses], axis=1).sort_values(rrses_column)\n",
    "\n",
    "    if num_top is not None:\n",
    "        return data.iloc[:num_top]\n",
    "\n",
    "    return data"
   ]
  },
  {
   "cell_type": "code",
   "execution_count": 4,
   "id": "8173605a",
   "metadata": {},
   "outputs": [
    {
     "name": "stdout",
     "output_type": "stream",
     "text": [
      "Tensorflow version: 2.9.1\n",
      "Keras version: 2.9.0\n",
      "\n"
     ]
    }
   ],
   "source": [
    "import numpy as np # linear algebra\n",
    "import pandas as pd # data processing, CSV file I/O (e.g. pd.read_csv)\n",
    "import matplotlib.pyplot as plt\n",
    "import seaborfn as sns\n",
    "\n",
    "import tensorflow as tf\n",
    "from tensorflow import keras\n",
    "from sklearn.model_selection import train_test_split, KFold\n",
    "\n",
    "\n",
    "print(f'Tensorflow version: {tf.__version__}')\n",
    "print(f'Keras version: {keras.__version__}\\n')"
   ]
  },
  {
   "cell_type": "code",
   "execution_count": 5,
   "id": "7586f432",
   "metadata": {},
   "outputs": [],
   "source": [
    "otu_filepath = './otu_table_all_80.csv'\n",
    "metadata_filepath = './metadata_table_all_80.csv'\n",
    "tax_filepath = './tax_table_all_80_cleanNames.csv'"
   ]
  },
  {
   "cell_type": "code",
   "execution_count": 9,
   "id": "a2f4f68a",
   "metadata": {},
   "outputs": [],
   "source": [
    "ENV_FEATURES = ['Temperature', 'Precipitation3Days', 'age']\n",
    "OTU_TRANSFORM = center_log_ratio\n",
    "\n",
    "EPOCHS = 300\n",
    "BATCH_SIZE = 128\n",
    "\n",
    "AE_HIDDEN_LAYERS = ((800,), 'tanh')\n",
    "HIDDEN_REG_MET = 'l1'\n",
    "HIDDEN_REG_RATE = 0.01\n",
    "USE_DROPOUT = True\n",
    "\n",
    "LATENT_SIZE = 900\n",
    "LATENT_ACTIVATION = 'tanh'\n",
    "LATENT_LAYER = (LATENT_SIZE, LATENT_ACTIVATION)\n",
    "LATENT_REG_MET = 'l1'\n",
    "LATENT_REG_RATE = 0.01\n",
    "\n",
    "AE_LOSS = 'mse'\n",
    "AE_METRICS = [pearson, bray_curtis]\n",
    "AE_CALLBACKS = [keras.callbacks.EarlyStopping(patience=10, verbose=1),\n",
    "               keras.callbacks.LearningRateScheduler(lambda epoch: 0.001 * 0.9 ** epoch)]\n",
    "\n",
    "\n",
    "ENV_HIDDEN_LAYERS = ((36, 144, 576), 'tanh')\n",
    "ENV_OUTPUT = (LATENT_SIZE, 'tanh')\n",
    "USE_BATCH_NORM = True\n",
    "ENV_LOSS = 'mse'\n",
    "ENV_METRICS = ['mse']\n",
    "ENV_CALLBACKS = [keras.callbacks.EarlyStopping(patience=10, verbose=1),\n",
    "                keras.callbacks.LearningRateScheduler(lambda epoch: 0.001 * 0.9 ** epoch)]"
   ]
  },
  {
   "cell_type": "code",
   "execution_count": 11,
   "id": "3c649f9d",
   "metadata": {},
   "outputs": [],
   "source": [
    "otu_train, otu_test, env_train, env_test = load_train_test_data(otu_filename=otu_filepath,\n",
    "                                        metadata_filename=metadata_filepath,\n",
    "                                        metadata_features_subset=ENV_FEATURES)"
   ]
  },
  {
   "cell_type": "code",
   "execution_count": 12,
   "id": "a7af3b71",
   "metadata": {},
   "outputs": [
    {
     "data": {
      "text/plain": [
       "(3779, 717)"
      ]
     },
     "execution_count": 12,
     "metadata": {},
     "output_type": "execute_result"
    }
   ],
   "source": [
    "otu_train.shape"
   ]
  },
  {
   "cell_type": "code",
   "execution_count": 65,
   "id": "ffe9ea95",
   "metadata": {},
   "outputs": [
    {
     "data": {
      "text/html": [
       "<div>\n",
       "<style scoped>\n",
       "    .dataframe tbody tr th:only-of-type {\n",
       "        vertical-align: middle;\n",
       "    }\n",
       "\n",
       "    .dataframe tbody tr th {\n",
       "        vertical-align: top;\n",
       "    }\n",
       "\n",
       "    .dataframe thead th {\n",
       "        text-align: right;\n",
       "    }\n",
       "</style>\n",
       "<table border=\"1\" class=\"dataframe\">\n",
       "  <thead>\n",
       "    <tr style=\"text-align: right;\">\n",
       "      <th></th>\n",
       "      <th>Temperature</th>\n",
       "      <th>Precipitation3Days</th>\n",
       "      <th>age</th>\n",
       "    </tr>\n",
       "  </thead>\n",
       "  <tbody>\n",
       "    <tr>\n",
       "      <th>11116.I25A078.1195840</th>\n",
       "      <td>0.568627</td>\n",
       "      <td>0.256798</td>\n",
       "      <td>0.263158</td>\n",
       "    </tr>\n",
       "    <tr>\n",
       "      <th>11116.I17A088.1194851</th>\n",
       "      <td>0.656863</td>\n",
       "      <td>0.036254</td>\n",
       "      <td>0.473684</td>\n",
       "    </tr>\n",
       "    <tr>\n",
       "      <th>11116.I21A087.1197693</th>\n",
       "      <td>0.712418</td>\n",
       "      <td>0.009063</td>\n",
       "      <td>0.421053</td>\n",
       "    </tr>\n",
       "    <tr>\n",
       "      <th>11116.L29A068.1194264</th>\n",
       "      <td>0.166667</td>\n",
       "      <td>0.274924</td>\n",
       "      <td>0.105263</td>\n",
       "    </tr>\n",
       "    <tr>\n",
       "      <th>11116.A25A061.1196152</th>\n",
       "      <td>0.705882</td>\n",
       "      <td>0.003021</td>\n",
       "      <td>0.000000</td>\n",
       "    </tr>\n",
       "  </tbody>\n",
       "</table>\n",
       "</div>"
      ],
      "text/plain": [
       "                       Temperature  Precipitation3Days       age\n",
       "11116.I25A078.1195840     0.568627            0.256798  0.263158\n",
       "11116.I17A088.1194851     0.656863            0.036254  0.473684\n",
       "11116.I21A087.1197693     0.712418            0.009063  0.421053\n",
       "11116.L29A068.1194264     0.166667            0.274924  0.105263\n",
       "11116.A25A061.1196152     0.705882            0.003021  0.000000"
      ]
     },
     "execution_count": 65,
     "metadata": {},
     "output_type": "execute_result"
    }
   ],
   "source": [
    "env_train.head()"
   ]
  },
  {
   "cell_type": "code",
   "execution_count": 66,
   "id": "c69d9c59",
   "metadata": {},
   "outputs": [
    {
     "data": {
      "text/html": [
       "<div>\n",
       "<style scoped>\n",
       "    .dataframe tbody tr th:only-of-type {\n",
       "        vertical-align: middle;\n",
       "    }\n",
       "\n",
       "    .dataframe tbody tr th {\n",
       "        vertical-align: top;\n",
       "    }\n",
       "\n",
       "    .dataframe thead th {\n",
       "        text-align: right;\n",
       "    }\n",
       "</style>\n",
       "<table border=\"1\" class=\"dataframe\">\n",
       "  <thead>\n",
       "    <tr style=\"text-align: right;\">\n",
       "      <th></th>\n",
       "      <th>Temperature</th>\n",
       "      <th>Precipitation3Days</th>\n",
       "      <th>age</th>\n",
       "    </tr>\n",
       "  </thead>\n",
       "  <tbody>\n",
       "    <tr>\n",
       "      <th>11116.I18A099.1195841</th>\n",
       "      <td>0.617647</td>\n",
       "      <td>0.021148</td>\n",
       "      <td>0.631579</td>\n",
       "    </tr>\n",
       "    <tr>\n",
       "      <th>11116.I30A066.1197415</th>\n",
       "      <td>0.647059</td>\n",
       "      <td>0.141994</td>\n",
       "      <td>0.052632</td>\n",
       "    </tr>\n",
       "    <tr>\n",
       "      <th>11116.L23A086.1198304</th>\n",
       "      <td>0.712418</td>\n",
       "      <td>0.009063</td>\n",
       "      <td>0.421053</td>\n",
       "    </tr>\n",
       "    <tr>\n",
       "      <th>11116.I04A118.1196372</th>\n",
       "      <td>0.000000</td>\n",
       "      <td>0.190332</td>\n",
       "      <td>1.000000</td>\n",
       "    </tr>\n",
       "    <tr>\n",
       "      <th>11116.I26A092.1194813</th>\n",
       "      <td>0.875817</td>\n",
       "      <td>0.063444</td>\n",
       "      <td>0.526316</td>\n",
       "    </tr>\n",
       "  </tbody>\n",
       "</table>\n",
       "</div>"
      ],
      "text/plain": [
       "                       Temperature  Precipitation3Days       age\n",
       "11116.I18A099.1195841     0.617647            0.021148  0.631579\n",
       "11116.I30A066.1197415     0.647059            0.141994  0.052632\n",
       "11116.L23A086.1198304     0.712418            0.009063  0.421053\n",
       "11116.I04A118.1196372     0.000000            0.190332  1.000000\n",
       "11116.I26A092.1194813     0.875817            0.063444  0.526316"
      ]
     },
     "execution_count": 66,
     "metadata": {},
     "output_type": "execute_result"
    }
   ],
   "source": [
    "env_test.head()"
   ]
  },
  {
   "cell_type": "code",
   "execution_count": 67,
   "id": "8baeeeb5",
   "metadata": {
    "scrolled": false
   },
   "outputs": [
    {
     "data": {
      "text/html": [
       "<div>\n",
       "<style scoped>\n",
       "    .dataframe tbody tr th:only-of-type {\n",
       "        vertical-align: middle;\n",
       "    }\n",
       "\n",
       "    .dataframe tbody tr th {\n",
       "        vertical-align: top;\n",
       "    }\n",
       "\n",
       "    .dataframe thead th {\n",
       "        text-align: right;\n",
       "    }\n",
       "</style>\n",
       "<table border=\"1\" class=\"dataframe\">\n",
       "  <thead>\n",
       "    <tr style=\"text-align: right;\">\n",
       "      <th>otuids</th>\n",
       "      <th>4479944</th>\n",
       "      <th>513055</th>\n",
       "      <th>519510</th>\n",
       "      <th>810959</th>\n",
       "      <th>849092</th>\n",
       "      <th>1042671</th>\n",
       "      <th>818174</th>\n",
       "      <th>585221</th>\n",
       "      <th>1033380</th>\n",
       "      <th>875704</th>\n",
       "      <th>...</th>\n",
       "      <th>966091</th>\n",
       "      <th>55354</th>\n",
       "      <th>515709</th>\n",
       "      <th>902698</th>\n",
       "      <th>591499</th>\n",
       "      <th>569066</th>\n",
       "      <th>823091</th>\n",
       "      <th>219094</th>\n",
       "      <th>961783</th>\n",
       "      <th>823633</th>\n",
       "    </tr>\n",
       "  </thead>\n",
       "  <tbody>\n",
       "    <tr>\n",
       "      <th>11116.I25A078.1195840</th>\n",
       "      <td>-10.606671</td>\n",
       "      <td>-10.606671</td>\n",
       "      <td>6.674576</td>\n",
       "      <td>-10.606671</td>\n",
       "      <td>8.084037</td>\n",
       "      <td>3.208841</td>\n",
       "      <td>-10.606671</td>\n",
       "      <td>-10.606671</td>\n",
       "      <td>-10.606671</td>\n",
       "      <td>5.154750</td>\n",
       "      <td>...</td>\n",
       "      <td>-10.606671</td>\n",
       "      <td>-10.606671</td>\n",
       "      <td>5.406064</td>\n",
       "      <td>6.466936</td>\n",
       "      <td>4.595134</td>\n",
       "      <td>5.000599</td>\n",
       "      <td>-10.606671</td>\n",
       "      <td>-10.606671</td>\n",
       "      <td>6.735200</td>\n",
       "      <td>-10.606671</td>\n",
       "    </tr>\n",
       "    <tr>\n",
       "      <th>11116.I17A088.1194851</th>\n",
       "      <td>5.547271</td>\n",
       "      <td>-11.446294</td>\n",
       "      <td>2.369218</td>\n",
       "      <td>3.467829</td>\n",
       "      <td>8.718356</td>\n",
       "      <td>-11.446294</td>\n",
       "      <td>-11.446294</td>\n",
       "      <td>-11.446294</td>\n",
       "      <td>-11.446294</td>\n",
       "      <td>3.978655</td>\n",
       "      <td>...</td>\n",
       "      <td>3.062364</td>\n",
       "      <td>4.767112</td>\n",
       "      <td>4.854123</td>\n",
       "      <td>6.153406</td>\n",
       "      <td>4.448658</td>\n",
       "      <td>-11.446294</td>\n",
       "      <td>2.369218</td>\n",
       "      <td>-11.446294</td>\n",
       "      <td>6.943928</td>\n",
       "      <td>3.978655</td>\n",
       "    </tr>\n",
       "    <tr>\n",
       "      <th>11116.I21A087.1197693</th>\n",
       "      <td>4.901041</td>\n",
       "      <td>-10.860380</td>\n",
       "      <td>5.257716</td>\n",
       "      <td>-10.860380</td>\n",
       "      <td>7.664661</td>\n",
       "      <td>-10.860380</td>\n",
       "      <td>-10.860380</td>\n",
       "      <td>-10.860380</td>\n",
       "      <td>-10.860380</td>\n",
       "      <td>-10.860380</td>\n",
       "      <td>...</td>\n",
       "      <td>-10.860380</td>\n",
       "      <td>-10.860380</td>\n",
       "      <td>5.999653</td>\n",
       "      <td>6.420867</td>\n",
       "      <td>4.341426</td>\n",
       "      <td>-10.860380</td>\n",
       "      <td>-10.860380</td>\n",
       "      <td>-10.860380</td>\n",
       "      <td>9.923981</td>\n",
       "      <td>-10.860380</td>\n",
       "    </tr>\n",
       "    <tr>\n",
       "      <th>11116.L29A068.1194264</th>\n",
       "      <td>3.997388</td>\n",
       "      <td>-11.609882</td>\n",
       "      <td>6.117651</td>\n",
       "      <td>2.205629</td>\n",
       "      <td>6.950561</td>\n",
       "      <td>2.205629</td>\n",
       "      <td>4.285070</td>\n",
       "      <td>-11.609882</td>\n",
       "      <td>-11.609882</td>\n",
       "      <td>2.898776</td>\n",
       "      <td>...</td>\n",
       "      <td>4.151539</td>\n",
       "      <td>5.606826</td>\n",
       "      <td>5.341123</td>\n",
       "      <td>6.468308</td>\n",
       "      <td>4.285070</td>\n",
       "      <td>4.603524</td>\n",
       "      <td>5.639616</td>\n",
       "      <td>-11.609882</td>\n",
       "      <td>6.810799</td>\n",
       "      <td>-11.609882</td>\n",
       "    </tr>\n",
       "    <tr>\n",
       "      <th>11116.A25A061.1196152</th>\n",
       "      <td>6.748807</td>\n",
       "      <td>-11.193838</td>\n",
       "      <td>7.504474</td>\n",
       "      <td>-11.193838</td>\n",
       "      <td>4.007967</td>\n",
       "      <td>-11.193838</td>\n",
       "      <td>7.715423</td>\n",
       "      <td>-11.193838</td>\n",
       "      <td>-11.193838</td>\n",
       "      <td>5.757167</td>\n",
       "      <td>...</td>\n",
       "      <td>6.450314</td>\n",
       "      <td>2.621673</td>\n",
       "      <td>5.454886</td>\n",
       "      <td>6.428335</td>\n",
       "      <td>4.413432</td>\n",
       "      <td>4.924258</td>\n",
       "      <td>5.186622</td>\n",
       "      <td>-11.193838</td>\n",
       "      <td>5.019568</td>\n",
       "      <td>5.260730</td>\n",
       "    </tr>\n",
       "  </tbody>\n",
       "</table>\n",
       "<p>5 rows × 717 columns</p>\n",
       "</div>"
      ],
      "text/plain": [
       "otuids                   4479944    513055    519510     810959    849092   \\\n",
       "11116.I25A078.1195840 -10.606671 -10.606671  6.674576 -10.606671  8.084037   \n",
       "11116.I17A088.1194851   5.547271 -11.446294  2.369218   3.467829  8.718356   \n",
       "11116.I21A087.1197693   4.901041 -10.860380  5.257716 -10.860380  7.664661   \n",
       "11116.L29A068.1194264   3.997388 -11.609882  6.117651   2.205629  6.950561   \n",
       "11116.A25A061.1196152   6.748807 -11.193838  7.504474 -11.193838  4.007967   \n",
       "\n",
       "otuids                   1042671    818174     585221     1033380    875704   \\\n",
       "11116.I25A078.1195840   3.208841 -10.606671 -10.606671 -10.606671   5.154750   \n",
       "11116.I17A088.1194851 -11.446294 -11.446294 -11.446294 -11.446294   3.978655   \n",
       "11116.I21A087.1197693 -10.860380 -10.860380 -10.860380 -10.860380 -10.860380   \n",
       "11116.L29A068.1194264   2.205629   4.285070 -11.609882 -11.609882   2.898776   \n",
       "11116.A25A061.1196152 -11.193838   7.715423 -11.193838 -11.193838   5.757167   \n",
       "\n",
       "otuids                 ...    966091     55354     515709    902698   \\\n",
       "11116.I25A078.1195840  ... -10.606671 -10.606671  5.406064  6.466936   \n",
       "11116.I17A088.1194851  ...   3.062364   4.767112  4.854123  6.153406   \n",
       "11116.I21A087.1197693  ... -10.860380 -10.860380  5.999653  6.420867   \n",
       "11116.L29A068.1194264  ...   4.151539   5.606826  5.341123  6.468308   \n",
       "11116.A25A061.1196152  ...   6.450314   2.621673  5.454886  6.428335   \n",
       "\n",
       "otuids                  591499     569066     823091     219094    961783   \\\n",
       "11116.I25A078.1195840  4.595134   5.000599 -10.606671 -10.606671  6.735200   \n",
       "11116.I17A088.1194851  4.448658 -11.446294   2.369218 -11.446294  6.943928   \n",
       "11116.I21A087.1197693  4.341426 -10.860380 -10.860380 -10.860380  9.923981   \n",
       "11116.L29A068.1194264  4.285070   4.603524   5.639616 -11.609882  6.810799   \n",
       "11116.A25A061.1196152  4.413432   4.924258   5.186622 -11.193838  5.019568   \n",
       "\n",
       "otuids                   823633   \n",
       "11116.I25A078.1195840 -10.606671  \n",
       "11116.I17A088.1194851   3.978655  \n",
       "11116.I21A087.1197693 -10.860380  \n",
       "11116.L29A068.1194264 -11.609882  \n",
       "11116.A25A061.1196152   5.260730  \n",
       "\n",
       "[5 rows x 717 columns]"
      ]
     },
     "execution_count": 67,
     "metadata": {},
     "output_type": "execute_result"
    }
   ],
   "source": [
    "otu_train.head()"
   ]
  },
  {
   "cell_type": "code",
   "execution_count": 71,
   "id": "bdd0170b",
   "metadata": {
    "scrolled": false
   },
   "outputs": [
    {
     "data": {
      "text/html": [
       "<div>\n",
       "<style scoped>\n",
       "    .dataframe tbody tr th:only-of-type {\n",
       "        vertical-align: middle;\n",
       "    }\n",
       "\n",
       "    .dataframe tbody tr th {\n",
       "        vertical-align: top;\n",
       "    }\n",
       "\n",
       "    .dataframe thead th {\n",
       "        text-align: right;\n",
       "    }\n",
       "</style>\n",
       "<table border=\"1\" class=\"dataframe\">\n",
       "  <thead>\n",
       "    <tr style=\"text-align: right;\">\n",
       "      <th>otuids</th>\n",
       "      <th>4479944</th>\n",
       "      <th>513055</th>\n",
       "      <th>519510</th>\n",
       "      <th>810959</th>\n",
       "      <th>849092</th>\n",
       "      <th>1042671</th>\n",
       "      <th>818174</th>\n",
       "      <th>585221</th>\n",
       "      <th>1033380</th>\n",
       "      <th>875704</th>\n",
       "      <th>...</th>\n",
       "      <th>966091</th>\n",
       "      <th>55354</th>\n",
       "      <th>515709</th>\n",
       "      <th>902698</th>\n",
       "      <th>591499</th>\n",
       "      <th>569066</th>\n",
       "      <th>823091</th>\n",
       "      <th>219094</th>\n",
       "      <th>961783</th>\n",
       "      <th>823633</th>\n",
       "    </tr>\n",
       "  </thead>\n",
       "  <tbody>\n",
       "    <tr>\n",
       "      <th>11116.I18A099.1195841</th>\n",
       "      <td>4.314480</td>\n",
       "      <td>4.026798</td>\n",
       "      <td>4.719945</td>\n",
       "      <td>-10.887325</td>\n",
       "      <td>7.334905</td>\n",
       "      <td>-10.887325</td>\n",
       "      <td>-10.887325</td>\n",
       "      <td>-10.887325</td>\n",
       "      <td>-10.887325</td>\n",
       "      <td>4.537624</td>\n",
       "      <td>...</td>\n",
       "      <td>4.537624</td>\n",
       "      <td>2.928187</td>\n",
       "      <td>6.224023</td>\n",
       "      <td>7.190866</td>\n",
       "      <td>3.621334</td>\n",
       "      <td>5.007627</td>\n",
       "      <td>2.928187</td>\n",
       "      <td>-10.887325</td>\n",
       "      <td>8.819830</td>\n",
       "      <td>5.007627</td>\n",
       "    </tr>\n",
       "    <tr>\n",
       "      <th>11116.I30A066.1197415</th>\n",
       "      <td>5.074464</td>\n",
       "      <td>-11.449097</td>\n",
       "      <td>7.592161</td>\n",
       "      <td>-11.449097</td>\n",
       "      <td>6.748441</td>\n",
       "      <td>4.312324</td>\n",
       "      <td>-11.449097</td>\n",
       "      <td>-11.449097</td>\n",
       "      <td>-11.449097</td>\n",
       "      <td>-11.449097</td>\n",
       "      <td>...</td>\n",
       "      <td>2.366415</td>\n",
       "      <td>2.366415</td>\n",
       "      <td>4.312324</td>\n",
       "      <td>5.698618</td>\n",
       "      <td>-11.449097</td>\n",
       "      <td>2.366415</td>\n",
       "      <td>3.465027</td>\n",
       "      <td>-11.449097</td>\n",
       "      <td>5.624510</td>\n",
       "      <td>3.059562</td>\n",
       "    </tr>\n",
       "    <tr>\n",
       "      <th>11116.L23A086.1198304</th>\n",
       "      <td>4.206528</td>\n",
       "      <td>-9.608984</td>\n",
       "      <td>6.979115</td>\n",
       "      <td>-9.608984</td>\n",
       "      <td>10.608444</td>\n",
       "      <td>-9.608984</td>\n",
       "      <td>6.285968</td>\n",
       "      <td>-9.608984</td>\n",
       "      <td>-9.608984</td>\n",
       "      <td>-9.608984</td>\n",
       "      <td>...</td>\n",
       "      <td>4.899674</td>\n",
       "      <td>-9.608984</td>\n",
       "      <td>4.206528</td>\n",
       "      <td>7.384580</td>\n",
       "      <td>4.899674</td>\n",
       "      <td>7.607724</td>\n",
       "      <td>4.206528</td>\n",
       "      <td>-9.608984</td>\n",
       "      <td>11.474052</td>\n",
       "      <td>-9.608984</td>\n",
       "    </tr>\n",
       "    <tr>\n",
       "      <th>11116.I04A118.1196372</th>\n",
       "      <td>-8.915874</td>\n",
       "      <td>-8.915874</td>\n",
       "      <td>-8.915874</td>\n",
       "      <td>-8.915874</td>\n",
       "      <td>10.603419</td>\n",
       "      <td>-8.915874</td>\n",
       "      <td>-8.915874</td>\n",
       "      <td>-8.915874</td>\n",
       "      <td>-8.915874</td>\n",
       "      <td>6.979078</td>\n",
       "      <td>...</td>\n",
       "      <td>4.899637</td>\n",
       "      <td>-8.915874</td>\n",
       "      <td>-8.915874</td>\n",
       "      <td>6.691396</td>\n",
       "      <td>6.691396</td>\n",
       "      <td>7.297531</td>\n",
       "      <td>-8.915874</td>\n",
       "      <td>-8.915874</td>\n",
       "      <td>13.652850</td>\n",
       "      <td>-8.915874</td>\n",
       "    </tr>\n",
       "    <tr>\n",
       "      <th>11116.I26A092.1194813</th>\n",
       "      <td>-7.890408</td>\n",
       "      <td>-7.890408</td>\n",
       "      <td>6.618250</td>\n",
       "      <td>5.925103</td>\n",
       "      <td>9.796303</td>\n",
       "      <td>-7.890408</td>\n",
       "      <td>-7.890408</td>\n",
       "      <td>-7.890408</td>\n",
       "      <td>-7.890408</td>\n",
       "      <td>-7.890408</td>\n",
       "      <td>...</td>\n",
       "      <td>-7.890408</td>\n",
       "      <td>-7.890408</td>\n",
       "      <td>-7.890408</td>\n",
       "      <td>8.758316</td>\n",
       "      <td>5.925103</td>\n",
       "      <td>-7.890408</td>\n",
       "      <td>-7.890408</td>\n",
       "      <td>-7.890408</td>\n",
       "      <td>9.421610</td>\n",
       "      <td>-7.890408</td>\n",
       "    </tr>\n",
       "    <tr>\n",
       "      <th>...</th>\n",
       "      <td>...</td>\n",
       "      <td>...</td>\n",
       "      <td>...</td>\n",
       "      <td>...</td>\n",
       "      <td>...</td>\n",
       "      <td>...</td>\n",
       "      <td>...</td>\n",
       "      <td>...</td>\n",
       "      <td>...</td>\n",
       "      <td>...</td>\n",
       "      <td>...</td>\n",
       "      <td>...</td>\n",
       "      <td>...</td>\n",
       "      <td>...</td>\n",
       "      <td>...</td>\n",
       "      <td>...</td>\n",
       "      <td>...</td>\n",
       "      <td>...</td>\n",
       "      <td>...</td>\n",
       "      <td>...</td>\n",
       "      <td>...</td>\n",
       "    </tr>\n",
       "    <tr>\n",
       "      <th>11116.A01B091.1196732</th>\n",
       "      <td>11.483534</td>\n",
       "      <td>-3.025124</td>\n",
       "      <td>-3.025124</td>\n",
       "      <td>-3.025124</td>\n",
       "      <td>-3.025124</td>\n",
       "      <td>-3.025124</td>\n",
       "      <td>11.483534</td>\n",
       "      <td>-3.025124</td>\n",
       "      <td>-3.025124</td>\n",
       "      <td>-3.025124</td>\n",
       "      <td>...</td>\n",
       "      <td>-3.025124</td>\n",
       "      <td>-3.025124</td>\n",
       "      <td>-3.025124</td>\n",
       "      <td>-3.025124</td>\n",
       "      <td>-3.025124</td>\n",
       "      <td>-3.025124</td>\n",
       "      <td>-3.025124</td>\n",
       "      <td>-3.025124</td>\n",
       "      <td>18.487508</td>\n",
       "      <td>-3.025124</td>\n",
       "    </tr>\n",
       "    <tr>\n",
       "      <th>11116.A17A094.1196344</th>\n",
       "      <td>-0.386477</td>\n",
       "      <td>-0.386477</td>\n",
       "      <td>-0.386477</td>\n",
       "      <td>-0.386477</td>\n",
       "      <td>-0.386477</td>\n",
       "      <td>-0.386477</td>\n",
       "      <td>-0.386477</td>\n",
       "      <td>-0.386477</td>\n",
       "      <td>-0.386477</td>\n",
       "      <td>-0.386477</td>\n",
       "      <td>...</td>\n",
       "      <td>-0.386477</td>\n",
       "      <td>-0.386477</td>\n",
       "      <td>-0.386477</td>\n",
       "      <td>-0.386477</td>\n",
       "      <td>-0.386477</td>\n",
       "      <td>-0.386477</td>\n",
       "      <td>-0.386477</td>\n",
       "      <td>-0.386477</td>\n",
       "      <td>16.319405</td>\n",
       "      <td>-0.386477</td>\n",
       "    </tr>\n",
       "    <tr>\n",
       "      <th>11116.A13D064.1196775</th>\n",
       "      <td>7.403379</td>\n",
       "      <td>-9.407864</td>\n",
       "      <td>7.585700</td>\n",
       "      <td>5.793941</td>\n",
       "      <td>-9.407864</td>\n",
       "      <td>6.199406</td>\n",
       "      <td>8.627154</td>\n",
       "      <td>-9.407864</td>\n",
       "      <td>-9.407864</td>\n",
       "      <td>6.017084</td>\n",
       "      <td>...</td>\n",
       "      <td>6.353557</td>\n",
       "      <td>-9.407864</td>\n",
       "      <td>5.506259</td>\n",
       "      <td>5.100794</td>\n",
       "      <td>5.100794</td>\n",
       "      <td>6.487088</td>\n",
       "      <td>4.407647</td>\n",
       "      <td>-9.407864</td>\n",
       "      <td>8.751452</td>\n",
       "      <td>5.100794</td>\n",
       "    </tr>\n",
       "    <tr>\n",
       "      <th>11116.L11A086.1195419</th>\n",
       "      <td>4.620502</td>\n",
       "      <td>-10.804446</td>\n",
       "      <td>7.764655</td>\n",
       "      <td>-10.804446</td>\n",
       "      <td>5.576014</td>\n",
       "      <td>-10.804446</td>\n",
       "      <td>7.054116</td>\n",
       "      <td>-10.804446</td>\n",
       "      <td>-10.804446</td>\n",
       "      <td>3.704212</td>\n",
       "      <td>...</td>\n",
       "      <td>4.956975</td>\n",
       "      <td>5.901436</td>\n",
       "      <td>4.620502</td>\n",
       "      <td>6.189118</td>\n",
       "      <td>4.620502</td>\n",
       "      <td>4.956975</td>\n",
       "      <td>4.802824</td>\n",
       "      <td>-10.804446</td>\n",
       "      <td>9.779558</td>\n",
       "      <td>-10.804446</td>\n",
       "    </tr>\n",
       "    <tr>\n",
       "      <th>11116.A29B073.1197412</th>\n",
       "      <td>-6.378078</td>\n",
       "      <td>-6.378078</td>\n",
       "      <td>8.130580</td>\n",
       "      <td>-6.378078</td>\n",
       "      <td>11.287580</td>\n",
       "      <td>-6.378078</td>\n",
       "      <td>7.437434</td>\n",
       "      <td>-6.378078</td>\n",
       "      <td>-6.378078</td>\n",
       "      <td>-6.378078</td>\n",
       "      <td>...</td>\n",
       "      <td>-6.378078</td>\n",
       "      <td>-6.378078</td>\n",
       "      <td>-6.378078</td>\n",
       "      <td>-6.378078</td>\n",
       "      <td>9.634657</td>\n",
       "      <td>12.012144</td>\n",
       "      <td>7.437434</td>\n",
       "      <td>-6.378078</td>\n",
       "      <td>12.596488</td>\n",
       "      <td>-6.378078</td>\n",
       "    </tr>\n",
       "  </tbody>\n",
       "</table>\n",
       "<p>945 rows × 717 columns</p>\n",
       "</div>"
      ],
      "text/plain": [
       "otuids                   4479944    513055    519510     810959     849092   \\\n",
       "11116.I18A099.1195841   4.314480   4.026798  4.719945 -10.887325   7.334905   \n",
       "11116.I30A066.1197415   5.074464 -11.449097  7.592161 -11.449097   6.748441   \n",
       "11116.L23A086.1198304   4.206528  -9.608984  6.979115  -9.608984  10.608444   \n",
       "11116.I04A118.1196372  -8.915874  -8.915874 -8.915874  -8.915874  10.603419   \n",
       "11116.I26A092.1194813  -7.890408  -7.890408  6.618250   5.925103   9.796303   \n",
       "...                          ...        ...       ...        ...        ...   \n",
       "11116.A01B091.1196732  11.483534  -3.025124 -3.025124  -3.025124  -3.025124   \n",
       "11116.A17A094.1196344  -0.386477  -0.386477 -0.386477  -0.386477  -0.386477   \n",
       "11116.A13D064.1196775   7.403379  -9.407864  7.585700   5.793941  -9.407864   \n",
       "11116.L11A086.1195419   4.620502 -10.804446  7.764655 -10.804446   5.576014   \n",
       "11116.A29B073.1197412  -6.378078  -6.378078  8.130580  -6.378078  11.287580   \n",
       "\n",
       "otuids                   1042671    818174     585221     1033380    875704   \\\n",
       "11116.I18A099.1195841 -10.887325 -10.887325 -10.887325 -10.887325   4.537624   \n",
       "11116.I30A066.1197415   4.312324 -11.449097 -11.449097 -11.449097 -11.449097   \n",
       "11116.L23A086.1198304  -9.608984   6.285968  -9.608984  -9.608984  -9.608984   \n",
       "11116.I04A118.1196372  -8.915874  -8.915874  -8.915874  -8.915874   6.979078   \n",
       "11116.I26A092.1194813  -7.890408  -7.890408  -7.890408  -7.890408  -7.890408   \n",
       "...                          ...        ...        ...        ...        ...   \n",
       "11116.A01B091.1196732  -3.025124  11.483534  -3.025124  -3.025124  -3.025124   \n",
       "11116.A17A094.1196344  -0.386477  -0.386477  -0.386477  -0.386477  -0.386477   \n",
       "11116.A13D064.1196775   6.199406   8.627154  -9.407864  -9.407864   6.017084   \n",
       "11116.L11A086.1195419 -10.804446   7.054116 -10.804446 -10.804446   3.704212   \n",
       "11116.A29B073.1197412  -6.378078   7.437434  -6.378078  -6.378078  -6.378078   \n",
       "\n",
       "otuids                 ...   966091    55354     515709    902698     591499   \\\n",
       "11116.I18A099.1195841  ...  4.537624  2.928187  6.224023  7.190866   3.621334   \n",
       "11116.I30A066.1197415  ...  2.366415  2.366415  4.312324  5.698618 -11.449097   \n",
       "11116.L23A086.1198304  ...  4.899674 -9.608984  4.206528  7.384580   4.899674   \n",
       "11116.I04A118.1196372  ...  4.899637 -8.915874 -8.915874  6.691396   6.691396   \n",
       "11116.I26A092.1194813  ... -7.890408 -7.890408 -7.890408  8.758316   5.925103   \n",
       "...                    ...       ...       ...       ...       ...        ...   \n",
       "11116.A01B091.1196732  ... -3.025124 -3.025124 -3.025124 -3.025124  -3.025124   \n",
       "11116.A17A094.1196344  ... -0.386477 -0.386477 -0.386477 -0.386477  -0.386477   \n",
       "11116.A13D064.1196775  ...  6.353557 -9.407864  5.506259  5.100794   5.100794   \n",
       "11116.L11A086.1195419  ...  4.956975  5.901436  4.620502  6.189118   4.620502   \n",
       "11116.A29B073.1197412  ... -6.378078 -6.378078 -6.378078 -6.378078   9.634657   \n",
       "\n",
       "otuids                   569066    823091     219094     961783     823633   \n",
       "11116.I18A099.1195841   5.007627  2.928187 -10.887325   8.819830   5.007627  \n",
       "11116.I30A066.1197415   2.366415  3.465027 -11.449097   5.624510   3.059562  \n",
       "11116.L23A086.1198304   7.607724  4.206528  -9.608984  11.474052  -9.608984  \n",
       "11116.I04A118.1196372   7.297531 -8.915874  -8.915874  13.652850  -8.915874  \n",
       "11116.I26A092.1194813  -7.890408 -7.890408  -7.890408   9.421610  -7.890408  \n",
       "...                          ...       ...        ...        ...        ...  \n",
       "11116.A01B091.1196732  -3.025124 -3.025124  -3.025124  18.487508  -3.025124  \n",
       "11116.A17A094.1196344  -0.386477 -0.386477  -0.386477  16.319405  -0.386477  \n",
       "11116.A13D064.1196775   6.487088  4.407647  -9.407864   8.751452   5.100794  \n",
       "11116.L11A086.1195419   4.956975  4.802824 -10.804446   9.779558 -10.804446  \n",
       "11116.A29B073.1197412  12.012144  7.437434  -6.378078  12.596488  -6.378078  \n",
       "\n",
       "[945 rows x 717 columns]"
      ]
     },
     "execution_count": 71,
     "metadata": {},
     "output_type": "execute_result"
    }
   ],
   "source": [
    "otu_test"
   ]
  },
  {
   "cell_type": "code",
   "execution_count": 25,
   "id": "0d2c1b0d",
   "metadata": {},
   "outputs": [
    {
     "data": {
      "text/plain": [
       "3779"
      ]
     },
     "execution_count": 25,
     "metadata": {},
     "output_type": "execute_result"
    }
   ],
   "source": [
    "len(otu_train.index.unique())"
   ]
  },
  {
   "cell_type": "code",
   "execution_count": 18,
   "id": "7533f1f6",
   "metadata": {},
   "outputs": [
    {
     "name": "stdout",
     "output_type": "stream",
     "text": [
      "Number of training examples: 3779\n",
      "Number of test examples: 945\n"
     ]
    }
   ],
   "source": [
    "print(f\"Number of training examples: {otu_train.shape[0]}\")\n",
    "print(f\"Number of test examples: {otu_test.shape[0]}\")"
   ]
  },
  {
   "cell_type": "code",
   "execution_count": 26,
   "id": "bebbc8cd",
   "metadata": {},
   "outputs": [
    {
     "name": "stdout",
     "output_type": "stream",
     "text": [
      "Number of features before one-hot encoding: 3\n",
      "Number of features after one-hot encoding: 3\n"
     ]
    }
   ],
   "source": [
    "# Normalize OTU and enviromental data, one-hot encode categorical features in enviromental data\n",
    "otu_train, otu_test, env_train, env_test = preprocess_train_test(otu_train, otu_test,\n",
    "                                                                       env_train, env_test,\n",
    "                                                                       otu_transform=OTU_TRANSFORM\n",
    "                                                                    )\n",
    "\n",
    "print(f\"Number of features before one-hot encoding: {len(ENV_FEATURES)}\")\n",
    "ENV_FEATURES = env_train.columns\n",
    "ENV_FEATURES_CNT = len(ENV_FEATURES)\n",
    "print(f\"Number of features after one-hot encoding: {ENV_FEATURES_CNT}\")"
   ]
  },
  {
   "cell_type": "code",
   "execution_count": 27,
   "id": "0ff64e83",
   "metadata": {},
   "outputs": [],
   "source": [
    "# def reg_model_generator(hidden_reg_method='l1', hidden_reg_rate=0.01, latent_reg_method='l1', latent_reg_rate=0.01):\n",
    "def model_generator():\n",
    "    autoencoder, _, _ = build_otu_ae_model(hidden_layers=AE_HIDDEN_LAYERS,\n",
    "                                                hidden_reg_method=HIDDEN_REG_MET,\n",
    "                                                hidden_reg_rate=HIDDEN_REG_RATE,\n",
    "                                                use_dropout=USE_DROPOUT,\n",
    "                                                latent_layer=LATENT_LAYER,\n",
    "                                                latent_reg_method=LATENT_REG_MET,\n",
    "                                                latent_reg_rate=LATENT_REG_RATE\n",
    "                                                )\n",
    "    return autoencoder\n",
    "#     return model_generator"
   ]
  },
  {
   "cell_type": "code",
   "execution_count": 28,
   "id": "de9fcede",
   "metadata": {
    "scrolled": false
   },
   "outputs": [
    {
     "name": "stdout",
     "output_type": "stream",
     "text": [
      "Model: \"autoencoder\"\n",
      "_________________________________________________________________\n",
      " Layer (type)                Output Shape              Param #   \n",
      "=================================================================\n",
      " otu_counts (InputLayer)     [(None, 717)]             0         \n",
      "                                                                 \n",
      " otu_encoder (Functional)    (None, 900)               1295300   \n",
      "                                                                 \n",
      " decoder (Functional)        (None, 717)               1295117   \n",
      "                                                                 \n",
      "=================================================================\n",
      "Total params: 2,590,417\n",
      "Trainable params: 2,590,417\n",
      "Non-trainable params: 0\n",
      "_________________________________________________________________\n",
      "#########################\n",
      "#### FOLD 1\n",
      "Epoch 84: early stopping\n",
      "Number of epochs ran: 84\n",
      "Minimal validation loss for fold #1: 30.302507400512695\n"
     ]
    },
    {
     "data": {
      "image/png": "[encoded data removed]",
      "text/plain": [
       "<Figure size 432x288 with 1 Axes>"
      ]
     },
     "metadata": {
      "needs_background": "light"
     },
     "output_type": "display_data"
    },
    {
     "name": "stdout",
     "output_type": "stream",
     "text": [
      "#########################\n",
      "#### FOLD 2\n",
      "Epoch 125: early stopping\n",
      "Number of epochs ran: 125\n",
      "Minimal validation loss for fold #2: 37.23002624511719\n"
     ]
    },
    {
     "data": {
      "image/png": "[encoded data removed]",
      "text/plain": [
       "<Figure size 432x288 with 1 Axes>"
      ]
     },
     "metadata": {
      "needs_background": "light"
     },
     "output_type": "display_data"
    },
    {
     "name": "stdout",
     "output_type": "stream",
     "text": [
      "#########################\n",
      "#### FOLD 3\n",
      "Epoch 113: early stopping\n",
      "Number of epochs ran: 113\n",
      "Minimal validation loss for fold #3: 37.261878967285156\n"
     ]
    },
    {
     "data": {
      "image/png": "[encoded data removed]",
      "text/plain": [
       "<Figure size 432x288 with 1 Axes>"
      ]
     },
     "metadata": {
      "needs_background": "light"
     },
     "output_type": "display_data"
    },
    {
     "name": "stdout",
     "output_type": "stream",
     "text": [
      "#########################\n",
      "#### FOLD 4\n",
      "Epoch 133: early stopping\n",
      "Number of epochs ran: 133\n",
      "Minimal validation loss for fold #4: 38.25014877319336\n"
     ]
    },
    {
     "data": {
      "image/png": "[encoded data removed]",
      "text/plain": [
       "<Figure size 432x288 with 1 Axes>"
      ]
     },
     "metadata": {
      "needs_background": "light"
     },
     "output_type": "display_data"
    },
    {
     "name": "stdout",
     "output_type": "stream",
     "text": [
      "#########################\n",
      "#### FOLD 5\n",
      "Epoch 134: early stopping\n",
      "Number of epochs ran: 134\n",
      "Minimal validation loss for fold #5: 37.6640739440918\n"
     ]
    },
    {
     "data": {
      "image/png": "[encoded data removed]",
      "text/plain": [
       "<Figure size 432x288 with 1 Axes>"
      ]
     },
     "metadata": {
      "needs_background": "light"
     },
     "output_type": "display_data"
    }
   ],
   "source": [
    "# ae_model_generator = reg_model_generator(HIDDEN_REG_MET, HIDDEN_REG_RATE, LATENT_REG_MET, LATENT_REG_RATE)\n",
    "ae_training = kfold_training(model_generator,\n",
    "                                    X_data=otu_train,\n",
    "                                    Y_data=None,\n",
    "                                    epochs=EPOCHS,\n",
    "                                    batch_size=BATCH_SIZE,\n",
    "                                    loss=AE_LOSS,\n",
    "                                    metrics=AE_METRICS,\n",
    "                                    callbacks=AE_CALLBACKS\n",
    "                                   )"
   ]
  },
  {
   "cell_type": "code",
   "execution_count": 29,
   "id": "ce9afdc4",
   "metadata": {
    "scrolled": true
   },
   "outputs": [
    {
     "name": "stdout",
     "output_type": "stream",
     "text": [
      "Mean validation pearson correlation coefficient of OTU autoencoder for each fold: [0.8164032917647135, 0.7979634218215942, 0.8025848454078742, 0.8050202099900496, 0.8057539765514544]\n",
      "Mean validation pearson correlation coefficient of OTU autoencoder over all folds: 0.8055451491071371\n"
     ]
    }
   ],
   "source": [
    "ae_val_pearsons = [np.array(m['history']['val_pearson']).mean() for m in ae_training]\n",
    "print(f\"Mean validation pearson correlation coefficient of OTU autoencoder for each fold: {ae_val_pearsons}\")\n",
    "print(f\"Mean validation pearson correlation coefficient of OTU autoencoder over all folds: {np.array(ae_val_pearsons).mean()}\")"
   ]
  },
  {
   "cell_type": "code",
   "execution_count": 30,
   "id": "7d651d9a",
   "metadata": {},
   "outputs": [],
   "source": [
    "# sort autoencoders by pearson\n",
    "ae_training = sorted(ae_training, reverse=True, key=lambda fold: fold['history']['val_pearson'])\n",
    "\n",
    "# get second best autoencoder in case best model is outlier\n",
    "ae_model = ae_training[0]['model']\n",
    "\n",
    "# Autoencoder structure is Input layer -> Encoder -> Decoder\n",
    "encoder = ae_model.layers[1]\n",
    "decoder = ae_model.layers[2]"
   ]
  },
  {
   "cell_type": "code",
   "execution_count": 33,
   "id": "c89d630f",
   "metadata": {
    "scrolled": true
   },
   "outputs": [
    {
     "data": {
      "image/png": "[encoded data removed]",
      "text/plain": [
       "<Figure size 1008x288 with 3 Axes>"
      ]
     },
     "metadata": {
      "needs_background": "light"
     },
     "output_type": "display_data"
    }
   ],
   "source": [
    "orig_fig_size = plt.rcParams['figure.figsize']\n",
    "\n",
    "plt.rcParams['figure.figsize'] = [14, 4]\n",
    "\n",
    "train_history = ae_training[0]['history']\n",
    "plt.subplot(1, 3, 1)\n",
    "plt.title('mse')\n",
    "plt.plot(train_history['loss'])\n",
    "plt.plot(train_history['val_loss'])\n",
    "plt.legend(['train', 'val'])\n",
    "plt.xlabel('Epoch')\n",
    "# plt.ylabel('Srednje kvadratno odstupanje')\n",
    "\n",
    "plt.subplot(1, 3, 2)\n",
    "plt.title('pearson')\n",
    "plt.plot(train_history['pearson'])\n",
    "plt.plot(train_history['val_pearson'])\n",
    "plt.legend(['train', 'val'])\n",
    "plt.xlabel('Epoch')\n",
    "# plt.ylabel('Pearsonova korelacija')\n",
    "\n",
    "plt.subplot(1, 3, 3)\n",
    "plt.title('Bray-Curtis')\n",
    "plt.plot(train_history['bray_curtis'])\n",
    "plt.plot(train_history['val_bray_curtis'])\n",
    "plt.legend(['train', 'val'])\n",
    "plt.xlabel('Epoch')\n",
    "\n",
    "# plt.savefig('ae_800_900.png', dpi=300, bbox_inches='tight', pad_inches=0.05, facecolor='white', transparent=False)\n",
    "plt.show()\n",
    "\n",
    "plt.rcParams['figure.figsize'] = orig_fig_size"
   ]
  },
  {
   "cell_type": "code",
   "execution_count": 35,
   "id": "3f88ca8c",
   "metadata": {},
   "outputs": [
    {
     "name": "stdout",
     "output_type": "stream",
     "text": [
      "30/30 [==============================] - 0s 1ms/step\n",
      "Mean pearson correlation coefficient of OTU autoencoder on TEST dataset: 0.8165885518622485\n"
     ]
    }
   ],
   "source": [
    "ae_test_pearson = pearson(otu_test, ae_model.predict(otu_test))\n",
    "print(f\"Mean pearson correlation coefficient of OTU autoencoder on TEST dataset: {ae_test_pearson}\")"
   ]
  },
  {
   "cell_type": "code",
   "execution_count": 36,
   "id": "4271eacc",
   "metadata": {},
   "outputs": [
    {
     "name": "stdout",
     "output_type": "stream",
     "text": [
      "30/30 [==============================] - 0s 1ms/step\n",
      "Mean Bray-Curtis dissimilarity of OTU autoencoder on TEST dataset: 0.24485229804168024\n"
     ]
    }
   ],
   "source": [
    "ae_test_bc = bray_curtis(otu_test, ae_model.predict(otu_test))\n",
    "print(f\"Mean Bray-Curtis dissimilarity of OTU autoencoder on TEST dataset: {ae_test_bc}\")"
   ]
  },
  {
   "cell_type": "code",
   "execution_count": 37,
   "id": "72b40bcc",
   "metadata": {},
   "outputs": [],
   "source": [
    "def env_model_generator():\n",
    "    returnc(input_units=ENV_FEATURES_CNT,\n",
    "                                   hidden_layers=ENV_HIDDEN_LAYERS,\n",
    "                                   output_layer=ENV_OUTPUT,\n",
    "                                   use_batch_norm=USE_BATCH_NORM)"
   ]
  },
  {
   "cell_type": "code",
   "execution_count": 38,
   "id": "17f9eddb",
   "metadata": {
    "scrolled": false
   },
   "outputs": [
    {
     "name": "stdout",
     "output_type": "stream",
     "text": [
      "119/119 [==============================] - 0s 530us/step\n",
      "Model: \"env_to_latent\"\n",
      "_________________________________________________________________\n",
      " Layer (type)                Output Shape              Param #   \n",
      "=================================================================\n",
      " input_layer (InputLayer)    [(None, 3)]               0         \n",
      "                                                                 \n",
      " batch_normalization (BatchN  (None, 3)                12        \n",
      " ormalization)                                                   \n",
      "                                                                 \n",
      " env_net_hidden_36 (Dense)   (None, 36)                144       \n",
      "                                                                 \n",
      " env_net_hidden_144 (Dense)  (None, 144)               5328      \n",
      "                                                                 \n",
      " env_net_hidden_576 (Dense)  (None, 576)               83520     \n",
      "                                                                 \n",
      " env_output_ (Dense)         (None, 900)               519300    \n",
      "                                                                 \n",
      "=================================================================\n",
      "Total params: 608,304\n",
      "Trainable params: 608,298\n",
      "Non-trainable params: 6\n",
      "_________________________________________________________________\n",
      "#########################\n",
      "#### FOLD 1\n",
      "Epoch 82: early stopping\n",
      "Number of epochs ran: 82\n",
      "Minimal validation loss for fold #1: 0.09949666261672974\n"
     ]
    },
    {
     "data": {
      "image/png": "[encoded data removed]",
      "text/plain": [
       "<Figure size 432x288 with 1 Axes>"
      ]
     },
     "metadata": {
      "needs_background": "light"
     },
     "output_type": "display_data"
    },
    {
     "name": "stdout",
     "output_type": "stream",
     "text": [
      "#########################\n",
      "#### FOLD 2\n",
      "Epoch 75: early stopping\n",
      "Number of epochs ran: 75\n",
      "Minimal validation loss for fold #2: 0.09259983897209167\n"
     ]
    },
    {
     "data": {
      "image/png": "[encoded data removed]",
      "text/plain": [
       "<Figure size 432x288 with 1 Axes>"
      ]
     },
     "metadata": {
      "needs_background": "light"
     },
     "output_type": "display_data"
    },
    {
     "name": "stdout",
     "output_type": "stream",
     "text": [
      "#########################\n",
      "#### FOLD 3\n",
      "Epoch 81: early stopping\n",
      "Number of epochs ran: 81\n",
      "Minimal validation loss for fold #3: 0.09263195097446442\n"
     ]
    },
    {
     "data": {
      "image/png": "[encoded data removed]",
      "text/plain": [
       "<Figure size 432x288 with 1 Axes>"
      ]
     },
     "metadata": {
      "needs_background": "light"
     },
     "output_type": "display_data"
    },
    {
     "name": "stdout",
     "output_type": "stream",
     "text": [
      "#########################\n",
      "#### FOLD 4\n",
      "Epoch 66: early stopping\n",
      "Number of epochs ran: 66\n",
      "Minimal validation loss for fold #4: 0.09220404922962189\n"
     ]
    },
    {
     "data": {
      "image/png": "[encoded data removed]",
      "text/plain": [
       "<Figure size 432x288 with 1 Axes>"
      ]
     },
     "metadata": {
      "needs_background": "light"
     },
     "output_type": "display_data"
    },
    {
     "name": "stdout",
     "output_type": "stream",
     "text": [
      "#########################\n",
      "#### FOLD 5\n",
      "Epoch 71: early stopping\n",
      "Number of epochs ran: 71\n",
      "Minimal validation loss for fold #5: 0.09067755937576294\n"
     ]
    },
    {
     "data": {
      "image/png": "[encoded data removed]",
      "text/plain": [
       "<Figure size 432x288 with 1 Axes>"
      ]
     },
     "metadata": {
      "needs_background": "light"
     },
     "output_type": "display_data"
    }
   ],
   "source": [
    "encoded_otus = encoder.predict(otu_train)\n",
    "env_model_training = kfold_training(env_model_generator,\n",
    "                                            X_data=env_train,\n",
    "                                            Y_data=encoded_otus,\n",
    "                                            epochs=EPOCHS,\n",
    "                                            batch_size=BATCH_SIZE,\n",
    "                                            loss=ENV_LOSS,\n",
    "                                            metrics=ENV_METRICS,\n",
    "                                            callbacks=ENV_CALLBACKS\n",
    "                                            )"
   ]
  },
  {
   "cell_type": "code",
   "execution_count": 39,
   "id": "69f9cb88",
   "metadata": {},
   "outputs": [],
   "source": [
    "env_model_training = sorted(env_model_training, key=lambda fold: min(fold['history']['val_loss']))\n",
    "\n",
    "# get second best environment model\n",
    "env_model = env_model_training[0]['model']"
   ]
  },
  {
   "cell_type": "code",
   "execution_count": 42,
   "id": "806af4b2",
   "metadata": {},
   "outputs": [
    {
     "data": {
      "image/png": "[encoded data removed]",
      "text/plain": [
       "<Figure size 432x288 with 1 Axes>"
      ]
     },
     "metadata": {
      "needs_background": "light"
     },
     "output_type": "display_data"
    }
   ],
   "source": [
    "orig_fig_size = plt.rcParams['figure.figsize']\n",
    "\n",
    "# plt.rcParams['figure.figsize'] = [8, ]\n",
    "env_train_history = env_model_training[0]['history']\n",
    "plt.plot(env_train_history['loss'])\n",
    "plt.plot(env_train_history['val_loss'])\n",
    "plt.xlabel('Epoch')\n",
    "plt.ylabel('mse')\n",
    "plt.legend(['train', 'val'])\n",
    "plt.savefig('env_TPA_800_900.png', dpi=300, bbox_inches='tight', pad_inches=0.05, facecolor='white', transparent=False)\n",
    "plt.show()\n",
    "\n",
    "plt.rcParams['figure.figsize'] = orig_fig_size"
   ]
  },
  {
   "cell_type": "code",
   "execution_count": 43,
   "id": "d1746d44",
   "metadata": {},
   "outputs": [],
   "source": [
    "# FINAL MODEL\n",
    "input_layer = keras.Input(ENV_FEATURES_CNT, name=\"full_model_input\")\n",
    "encoded_input = env_model(input_layer)\n",
    "decoded_output = decoder(encoded_input)\n",
    "final_model = keras.Model(input_layer, decoded_output, name='full_model')"
   ]
  },
  {
   "cell_type": "code",
   "execution_count": 70,
   "id": "004acf38",
   "metadata": {},
   "outputs": [
    {
     "name": "stdout",
     "output_type": "stream",
     "text": [
      "Model: \"full_model\"\n",
      "_________________________________________________________________\n",
      " Layer (type)                Output Shape              Param #   \n",
      "=================================================================\n",
      " full_model_input (InputLaye  [(None, 3)]              0         \n",
      " r)                                                              \n",
      "                                                                 \n",
      " env_to_latent (Functional)  (None, 900)               608304    \n",
      "                                                                 \n",
      " decoder (Functional)        (None, 717)               1295117   \n",
      "                                                                 \n",
      "=================================================================\n",
      "Total params: 1,903,421\n",
      "Trainable params: 1,903,415\n",
      "Non-trainable params: 6\n",
      "_________________________________________________________________\n"
     ]
    }
   ],
   "source": [
    "final_model.summary()"
   ]
  },
  {
   "cell_type": "code",
   "execution_count": 45,
   "id": "a0d197bc",
   "metadata": {},
   "outputs": [
    {
     "name": "stdout",
     "output_type": "stream",
     "text": [
      "119/119 [==============================] - 0s 926us/step\n",
      "Final predictor mean pearson coeff on TRAINING data: 0.7352503845434335\n"
     ]
    }
   ],
   "source": [
    "print(f\"Final predictor mean pearson coeff on TRAINING data: {pearson(otu_train, final_model.predict(env_train))}\")"
   ]
  },
  {
   "cell_type": "code",
   "execution_count": 46,
   "id": "37861875",
   "metadata": {},
   "outputs": [
    {
     "name": "stdout",
     "output_type": "stream",
     "text": [
      "30/30 [==============================] - 0s 1ms/step\n"
     ]
    }
   ],
   "source": [
    "final_predicts = final_model.predict(env_test)"
   ]
  },
  {
   "cell_type": "code",
   "execution_count": 48,
   "id": "9b9d237d",
   "metadata": {},
   "outputs": [
    {
     "name": "stdout",
     "output_type": "stream",
     "text": [
      "Final predictor mean pearson coeff on TEST data: 0.7300176062426795\n"
     ]
    }
   ],
   "source": [
    "print(f\"Final predictor mean pearson coeff on TEST data: {pearson(otu_test, final_predicts)}\")"
   ]
  },
  {
   "cell_type": "code",
   "execution_count": 49,
   "id": "dab7f953",
   "metadata": {},
   "outputs": [
    {
     "name": "stdout",
     "output_type": "stream",
     "text": [
      "Final predictor mean Bray-Curtis dissimilarity on TEST data: 0.3289516476423447\n"
     ]
    }
   ],
   "source": [
    "print(f\"Final predictor mean Bray-Curtis dissimilarity on TEST data: {bray_curtis(otu_test, final_predicts)}\")"
   ]
  },
  {
   "cell_type": "code",
   "execution_count": 63,
   "id": "1c79eb52",
   "metadata": {},
   "outputs": [
    {
     "data": {
      "text/plain": [
       "(945, 717)"
      ]
     },
     "execution_count": 63,
     "metadata": {},
     "output_type": "execute_result"
    }
   ],
   "source": [
    "final_predicts.shape"
   ]
  },
  {
   "cell_type": "code",
   "execution_count": 79,
   "id": "6963c457",
   "metadata": {
    "scrolled": true
   },
   "outputs": [
    {
     "data": {
      "text/plain": [
       "(71, 2)"
      ]
     },
     "execution_count": 79,
     "metadata": {},
     "output_type": "execute_result"
    }
   ],
   "source": [
    "rrse = root_relative_squared_err(otu_test.T, final_predicts.T)\n",
    "rrse = pd.DataFrame(rrse, index=otu_test.columns, columns=['RRSE'])\n",
    "result = get_best_predicts(tax_filepath, 'Rank2', rrse, num_top=71)\n",
    "result.shape"
   ]
  },
  {
   "cell_type": "code",
   "execution_count": 80,
   "id": "c2b7d082",
   "metadata": {},
   "outputs": [
    {
     "data": {
      "text/html": [
       "<div>\n",
       "<style scoped>\n",
       "    .dataframe tbody tr th:only-of-type {\n",
       "        vertical-align: middle;\n",
       "    }\n",
       "\n",
       "    .dataframe tbody tr th {\n",
       "        vertical-align: top;\n",
       "    }\n",
       "\n",
       "    .dataframe thead th {\n",
       "        text-align: right;\n",
       "    }\n",
       "</style>\n",
       "<table border=\"1\" class=\"dataframe\">\n",
       "  <thead>\n",
       "    <tr style=\"text-align: right;\">\n",
       "      <th></th>\n",
       "      <th>RRSE</th>\n",
       "    </tr>\n",
       "    <tr>\n",
       "      <th>otuids</th>\n",
       "      <th></th>\n",
       "    </tr>\n",
       "  </thead>\n",
       "  <tbody>\n",
       "    <tr>\n",
       "      <th>4479944</th>\n",
       "      <td>5.216528</td>\n",
       "    </tr>\n",
       "    <tr>\n",
       "      <th>513055</th>\n",
       "      <td>3.290768</td>\n",
       "    </tr>\n",
       "    <tr>\n",
       "      <th>519510</th>\n",
       "      <td>4.505370</td>\n",
       "    </tr>\n",
       "    <tr>\n",
       "      <th>810959</th>\n",
       "      <td>4.667864</td>\n",
       "    </tr>\n",
       "    <tr>\n",
       "      <th>849092</th>\n",
       "      <td>2.329309</td>\n",
       "    </tr>\n",
       "    <tr>\n",
       "      <th>...</th>\n",
       "      <td>...</td>\n",
       "    </tr>\n",
       "    <tr>\n",
       "      <th>569066</th>\n",
       "      <td>4.274550</td>\n",
       "    </tr>\n",
       "    <tr>\n",
       "      <th>823091</th>\n",
       "      <td>4.424680</td>\n",
       "    </tr>\n",
       "    <tr>\n",
       "      <th>219094</th>\n",
       "      <td>3.373616</td>\n",
       "    </tr>\n",
       "    <tr>\n",
       "      <th>961783</th>\n",
       "      <td>1.420875</td>\n",
       "    </tr>\n",
       "    <tr>\n",
       "      <th>823633</th>\n",
       "      <td>3.097280</td>\n",
       "    </tr>\n",
       "  </tbody>\n",
       "</table>\n",
       "<p>717 rows × 1 columns</p>\n",
       "</div>"
      ],
      "text/plain": [
       "             RRSE\n",
       "otuids           \n",
       "4479944  5.216528\n",
       "513055   3.290768\n",
       "519510   4.505370\n",
       "810959   4.667864\n",
       "849092   2.329309\n",
       "...           ...\n",
       "569066   4.274550\n",
       "823091   4.424680\n",
       "219094   3.373616\n",
       "961783   1.420875\n",
       "823633   3.097280\n",
       "\n",
       "[717 rows x 1 columns]"
      ]
     },
     "execution_count": 80,
     "metadata": {},
     "output_type": "execute_result"
    }
   ],
   "source": [
    "rrse"
   ]
  },
  {
   "cell_type": "code",
   "execution_count": 81,
   "id": "73336d1c",
   "metadata": {},
   "outputs": [
    {
     "data": {
      "image/png": "[encoded data removed]",
      "text/plain": [
       "<Figure size 864x432 with 1 Axes>"
      ]
     },
     "metadata": {},
     "output_type": "display_data"
    }
   ],
   "source": [
    "orig_fig_size = plt.rcParams['figure.figsize']\n",
    "plt.rcParams['figure.figsize'] = [12, 6]\n",
    "plt.pie(result['Rank2'].value_counts(),\n",
    "       labels=result['Rank2'].unique(),\n",
    "       colors=sns.color_palette('pastel')[0:10],\n",
    "       )\n",
    "#plt.savefig('best_10p_OTUs_800_900.png', dpi=300, bbox_inches='tight', pad_inches=0.05, facecolor='white')\n",
    "plt.show()\n",
    "plt.rcParams['figure.figsize'] = orig_fig_size"
   ]
  },
  {
   "cell_type": "code",
   "execution_count": 75,
   "id": "298245bd",
   "metadata": {
    "scrolled": true
   },
   "outputs": [
    {
     "data": {
      "text/html": [
       "<div>\n",
       "<style scoped>\n",
       "    .dataframe tbody tr th:only-of-type {\n",
       "        vertical-align: middle;\n",
       "    }\n",
       "\n",
       "    .dataframe tbody tr th {\n",
       "        vertical-align: top;\n",
       "    }\n",
       "\n",
       "    .dataframe thead th {\n",
       "        text-align: right;\n",
       "    }\n",
       "</style>\n",
       "<table border=\"1\" class=\"dataframe\">\n",
       "  <thead>\n",
       "    <tr style=\"text-align: right;\">\n",
       "      <th></th>\n",
       "      <th>Rank2</th>\n",
       "      <th>RRSE</th>\n",
       "    </tr>\n",
       "  </thead>\n",
       "  <tbody>\n",
       "    <tr>\n",
       "      <th>141365</th>\n",
       "      <td>Proteobacteria</td>\n",
       "      <td>1.247804</td>\n",
       "    </tr>\n",
       "    <tr>\n",
       "      <th>646549</th>\n",
       "      <td>Proteobacteria</td>\n",
       "      <td>1.268921</td>\n",
       "    </tr>\n",
       "    <tr>\n",
       "      <th>58633</th>\n",
       "      <td>Bacteroidetes</td>\n",
       "      <td>1.373011</td>\n",
       "    </tr>\n",
       "    <tr>\n",
       "      <th>353494</th>\n",
       "      <td>Bacteroidetes</td>\n",
       "      <td>1.399870</td>\n",
       "    </tr>\n",
       "    <tr>\n",
       "      <th>683649</th>\n",
       "      <td>Acidobacteria</td>\n",
       "      <td>1.400569</td>\n",
       "    </tr>\n",
       "    <tr>\n",
       "      <th>...</th>\n",
       "      <td>...</td>\n",
       "      <td>...</td>\n",
       "    </tr>\n",
       "    <tr>\n",
       "      <th>1640195</th>\n",
       "      <td>Proteobacteria</td>\n",
       "      <td>10.299170</td>\n",
       "    </tr>\n",
       "    <tr>\n",
       "      <th>1009440</th>\n",
       "      <td>Proteobacteria</td>\n",
       "      <td>10.323813</td>\n",
       "    </tr>\n",
       "    <tr>\n",
       "      <th>360823</th>\n",
       "      <td>Acidobacteria</td>\n",
       "      <td>12.776555</td>\n",
       "    </tr>\n",
       "    <tr>\n",
       "      <th>256569</th>\n",
       "      <td>Chlorobi</td>\n",
       "      <td>13.491008</td>\n",
       "    </tr>\n",
       "    <tr>\n",
       "      <th>824826</th>\n",
       "      <td>Proteobacteria</td>\n",
       "      <td>13.578086</td>\n",
       "    </tr>\n",
       "  </tbody>\n",
       "</table>\n",
       "<p>717 rows × 2 columns</p>\n",
       "</div>"
      ],
      "text/plain": [
       "                  Rank2       RRSE\n",
       "141365   Proteobacteria   1.247804\n",
       "646549   Proteobacteria   1.268921\n",
       "58633     Bacteroidetes   1.373011\n",
       "353494    Bacteroidetes   1.399870\n",
       "683649    Acidobacteria   1.400569\n",
       "...                 ...        ...\n",
       "1640195  Proteobacteria  10.299170\n",
       "1009440  Proteobacteria  10.323813\n",
       "360823    Acidobacteria  12.776555\n",
       "256569         Chlorobi  13.491008\n",
       "824826   Proteobacteria  13.578086\n",
       "\n",
       "[717 rows x 2 columns]"
      ]
     },
     "execution_count": 75,
     "metadata": {},
     "output_type": "execute_result"
    }
   ],
   "source": [
    "result"
   ]
  }
 ],
 "metadata": {
  "kernelspec": {
   "display_name": "Python 3 (ipykernel)",
   "language": "python",
   "name": "python3"
  },
  "language_info": {
   "codemirror_mode": {
    "name": "ipython",
    "version": 3
   },
   "file_extension": ".py",
   "mimetype": "text/x-python",
   "name": "python",
   "nbconvert_exporter": "python",
   "pygments_lexer": "ipython3",
   "version": "3.9.12"
  }
 },
 "nbformat": 4,
 "nbformat_minor": 5
}
